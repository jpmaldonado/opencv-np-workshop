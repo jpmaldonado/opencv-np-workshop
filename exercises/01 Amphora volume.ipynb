{
 "cells": [
  {
   "cell_type": "code",
   "execution_count": 1,
   "metadata": {},
   "outputs": [],
   "source": [
    "import matplotlib.pyplot as plt\n",
    "import numpy as np\n",
    "%matplotlib inline\n",
    "import cv2\n",
    "from scipy.integrate import quad"
   ]
  },
  {
   "cell_type": "code",
   "execution_count": 2,
   "metadata": {},
   "outputs": [],
   "source": [
    "np.warnings.filterwarnings('ignore')"
   ]
  },
  {
   "cell_type": "code",
   "execution_count": 7,
   "metadata": {},
   "outputs": [],
   "source": [
    "img = cv2.imread(\"./img/amphora1.jpg\")\n",
    "img = cv2.cvtColor(img, cv2.COLOR_BGR2GRAY)"
   ]
  },
  {
   "cell_type": "code",
   "execution_count": 8,
   "metadata": {},
   "outputs": [],
   "source": [
    "_, img = cv2.threshold(img, 100, 255, cv2.THRESH_BINARY)"
   ]
  },
  {
   "cell_type": "code",
   "execution_count": 9,
   "metadata": {},
   "outputs": [
    {
     "data": {
      "application/vnd.jupyter.widget-view+json": {
       "model_id": "70b4d898420744868cad420d21eb1d43",
       "version_major": 2,
       "version_minor": 0
      },
      "text/plain": [
       "interactive(children=(IntSlider(value=1754, description='center', max=3508), IntSlider(value=1241, description…"
      ]
     },
     "metadata": {},
     "output_type": "display_data"
    },
    {
     "data": {
      "image/png": "[encoded data removed]",
      "text/plain": [
       "<Figure size 432x288 with 1 Axes>"
      ]
     },
     "metadata": {
      "needs_background": "light"
     },
     "output_type": "display_data"
    }
   ],
   "source": [
    "from ipywidgets import interact\n",
    "\n",
    "def update(center, top, bottom):\n",
    "    plt.imshow(img, cmap=\"gray\")\n",
    "    plt.axvline(x=center)\n",
    "    plt.axhline(y=top)\n",
    "    plt.axhline(y=bottom)\n",
    "        \n",
    "    def f(y):\n",
    "        # Calculates the section area at level y\n",
    "        y = int(y)\n",
    "        first_black_pixel = img[y,:].argmin() # get first black pixel\n",
    "        radius = first_black_pixel - center\n",
    "        section_area = np.pi*radius**2\n",
    "        return section_area\n",
    "    vol = round(quad(f,top, bottom)[0]*1e-6,3)\n",
    "    \n",
    "    print(\"Volume:\", vol)\n",
    "    \n",
    "    \n",
    "\n",
    "interact(update, center = (0,img.shape[1]), top = (0,img.shape[0]), bottom = (0,img.shape[1]));"
   ]
  },
  {
   "cell_type": "code",
   "execution_count": null,
   "metadata": {},
   "outputs": [],
   "source": []
  }
 ],
 "metadata": {
  "kernelspec": {
   "display_name": "Python 3",
   "language": "python",
   "name": "python3"
  },
  "language_info": {
   "codemirror_mode": {
    "name": "ipython",
    "version": 3
   },
   "file_extension": ".py",
   "mimetype": "text/x-python",
   "name": "python",
   "nbconvert_exporter": "python",
   "pygments_lexer": "ipython3",
   "version": "3.7.2"
  }
 },
 "nbformat": 4,
 "nbformat_minor": 2
}
