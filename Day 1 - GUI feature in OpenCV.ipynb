{
 "cells": [
  {
   "cell_type": "code",
   "execution_count": 1,
   "metadata": {},
   "outputs": [],
   "source": [
    "import cv2"
   ]
  },
  {
   "cell_type": "code",
   "execution_count": 2,
   "metadata": {},
   "outputs": [],
   "source": [
    "import numpy as np\n",
    "img = np.zeros((512,512,3), np.uint8)"
   ]
  },
  {
   "cell_type": "code",
   "execution_count": 3,
   "metadata": {},
   "outputs": [],
   "source": [
    "# Draw a circle of fixed size wherever user left-double-clicks\n",
    "def draw_circle(event, x,y, flags, params): # WHY FLAGS/PARAM (?)\n",
    "    if event == cv2.EVENT_LBUTTONDBLCLK:\n",
    "        cv2.circle(img,(x,y), 200, (255,0,0), -1)"
   ]
  },
  {
   "cell_type": "code",
   "execution_count": 4,
   "metadata": {},
   "outputs": [],
   "source": [
    "# 1. Create a window \n",
    "# 2. Write a loop to listen to event\n",
    "\n",
    "cv2.namedWindow('circle')\n",
    "cv2.setMouseCallback('circle', draw_circle)"
   ]
  },
  {
   "cell_type": "code",
   "execution_count": 5,
   "metadata": {},
   "outputs": [],
   "source": [
    "while True:\n",
    "    cv2.imshow('circle', img) # window name, image\n",
    "    if cv2.waitKey(20) == 27:\n",
    "        break\n",
    "cv2.destroyAllWindows()   \n",
    "    "
   ]
  },
  {
   "cell_type": "markdown",
   "metadata": {},
   "source": [
    "## Using trackbars"
   ]
  },
  {
   "cell_type": "code",
   "execution_count": 3,
   "metadata": {},
   "outputs": [],
   "source": [
    "import numpy as np\n",
    "import cv2\n",
    "# Trackbar callback function\n",
    "def f(x):\n",
    "    pass\n",
    "\n",
    "img = np.zeros((512,512,3), np.uint8)\n",
    "cv2.namedWindow('image')\n",
    "\n",
    "# Create a trackbar in the window\n",
    "# Legend/trackbar name, namedWindow, min_val, max_val, callback\n",
    "cv2.createTrackbar('Value', 'image', 0, 255, f) \n",
    "\n",
    "# Center for text\n",
    "position = (256,256)\n",
    "font = cv2.FONT_ITALIC\n",
    "color = (255,255,255)\n",
    "font_size = 4\n",
    "thickness = 3\n",
    "\n",
    "while True:\n",
    "    cv2.imshow('image', img)\n",
    "    \n",
    "    # Retrieve current value\n",
    "    value = cv2.getTrackbarPos('Value', 'image')\n",
    "    \n",
    "    img = np.zeros((512,512,3), np.uint8)\n",
    "    # Display the value of the trackbar\n",
    "    #new_pos = position + (value,value)\n",
    "    cv2.putText(img, str(value), position, font, font_size, color, thickness)\n",
    "    \n",
    "    if cv2.waitKey(1) == 27:\n",
    "        break\n",
    "cv2.destroyAllWindows()\n",
    "\n",
    "\n",
    "\n"
   ]
  },
  {
   "cell_type": "code",
   "execution_count": null,
   "metadata": {},
   "outputs": [],
   "source": []
  },
  {
   "cell_type": "code",
   "execution_count": null,
   "metadata": {},
   "outputs": [],
   "source": []
  },
  {
   "cell_type": "code",
   "execution_count": null,
   "metadata": {},
   "outputs": [],
   "source": []
  },
  {
   "cell_type": "code",
   "execution_count": null,
   "metadata": {},
   "outputs": [],
   "source": []
  }
 ],
 "metadata": {
  "kernelspec": {
   "display_name": "Python 3",
   "language": "python",
   "name": "python3"
  },
  "language_info": {
   "codemirror_mode": {
    "name": "ipython",
    "version": 3
   },
   "file_extension": ".py",
   "mimetype": "text/x-python",
   "name": "python",
   "nbconvert_exporter": "python",
   "pygments_lexer": "ipython3",
   "version": "3.7.2"
  }
 },
 "nbformat": 4,
 "nbformat_minor": 2
}
