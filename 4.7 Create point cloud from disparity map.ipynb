{
 "cells": [
  {
   "cell_type": "code",
   "execution_count": 1,
   "metadata": {},
   "outputs": [],
   "source": [
    "import cv2\n",
    "import numpy as np"
   ]
  },
  {
   "cell_type": "code",
   "execution_count": 2,
   "metadata": {},
   "outputs": [],
   "source": [
    "#Function to create point cloud file\n",
    "def create_output(vertices, colors, filename):\n",
    "    colors = colors.reshape(-1,3)\n",
    "    vertices = np.hstack([vertices.reshape(-1,3),colors])\n",
    "\n",
    "    ply_header = '''ply\n",
    "        format ascii 1.0\n",
    "        element vertex %(vert_num)d\n",
    "        property float x\n",
    "        property float y\n",
    "        property float z\n",
    "        property uchar red\n",
    "        property uchar green\n",
    "        property uchar blue\n",
    "        end_header\n",
    "        '''.replace(\"  \",\"\")\n",
    "    with open(filename, 'w') as f:\n",
    "        f.write(ply_header %dict(vert_num=len(vertices)))\n",
    "        np.savetxt(f,vertices,'%f %f %f %d %d %d')"
   ]
  },
  {
   "cell_type": "code",
   "execution_count": 3,
   "metadata": {},
   "outputs": [],
   "source": [
    "# Load disparity map\n",
    "disparity_map = np.load(\"../opencv-np-workshop/data/3d/disparity_map.npy\")\n",
    "K = np.load('../opencv-np-workshop/data/camera_params/K.npy')\n",
    "img1 = cv2.imread(\"../opencv-np-workshop/data/3d/img1.png\") # Used to get back some color info"
   ]
  },
  {
   "cell_type": "code",
   "execution_count": 4,
   "metadata": {},
   "outputs": [
    {
     "data": {
      "text/plain": [
       "array([[3.57130618e+03, 0.00000000e+00, 2.11505059e+03],\n",
       "       [0.00000000e+00, 3.57886353e+03, 1.69787665e+03],\n",
       "       [0.00000000e+00, 0.00000000e+00, 1.00000000e+00]])"
      ]
     },
     "execution_count": 4,
     "metadata": {},
     "output_type": "execute_result"
    }
   ],
   "source": [
    "K"
   ]
  },
  {
   "cell_type": "code",
   "execution_count": 7,
   "metadata": {},
   "outputs": [
    {
     "data": {
      "text/plain": [
       "(555, 641)"
      ]
     },
     "execution_count": 7,
     "metadata": {},
     "output_type": "execute_result"
    }
   ],
   "source": [
    "disparity_map.shape"
   ]
  },
  {
   "cell_type": "code",
   "execution_count": 8,
   "metadata": {},
   "outputs": [],
   "source": [
    "h, w = disparity_map.shape\n",
    "\n",
    "#Heuristic for focal length. \n",
    "focal_length = 0.8*w #K[0,0]\n",
    "\n",
    "#Perspective transformation matrix from the openCV documentation\n",
    "Q = np.float32([[1,0,0,-w/2.0],\n",
    "                [0,-1,0,h/2.0],\n",
    "                [0,0,0,-focal_length],\n",
    "                [0,0,-1,0]])\n",
    "\n",
    "#Reproject points into 3D\n",
    "points_3D = cv2.reprojectImageTo3D(disparity_map, Q)\n"
   ]
  },
  {
   "cell_type": "code",
   "execution_count": 9,
   "metadata": {},
   "outputs": [],
   "source": [
    "#Get color points\n",
    "colors = cv2.cvtColor(img1, cv2.COLOR_BGR2RGB)\n",
    "\n",
    "#Get rid of points with small values\n",
    "mask_map = disparity_map > disparity_map.min()\n",
    "\n",
    "#Mask colors and points. \n",
    "output_points = points_3D[mask_map]\n",
    "output_colors = colors[mask_map]\n",
    "\n",
    "#Define name for output file\n",
    "output_file = '../opencv-np-workshop/data/3d/reconstructed.ply'\n",
    "\n",
    "create_output(output_points, output_colors, output_file)"
   ]
  },
  {
   "cell_type": "code",
   "execution_count": 10,
   "metadata": {},
   "outputs": [],
   "source": [
    "#Load focal length. \n",
    "focal_length = 0.8*w #K[0,0] if you do it properly!\n",
    "\n",
    "h, w = disparity_map.shape\n",
    "\n",
    "#Perspective transformation matrix from the OpenCV documentation\n",
    "Q = np.float32([[1,0,0,-w/2.0],\n",
    "                [0,-1,0,h/2.0],\n",
    "                [0,0,0,-focal_length],\n",
    "                [0,0,-1,0]])\n",
    "\n",
    "#Reproject points into 3D\n",
    "points_3D = cv2.reprojectImageTo3D(disparity_map, Q)\n"
   ]
  },
  {
   "cell_type": "code",
   "execution_count": 11,
   "metadata": {},
   "outputs": [
    {
     "data": {
      "text/plain": [
       "3571.3061813656795"
      ]
     },
     "execution_count": 11,
     "metadata": {},
     "output_type": "execute_result"
    }
   ],
   "source": [
    "K[0][0]"
   ]
  },
  {
   "cell_type": "code",
   "execution_count": 12,
   "metadata": {},
   "outputs": [
    {
     "data": {
      "text/plain": [
       "512.8000000000001"
      ]
     },
     "execution_count": 12,
     "metadata": {},
     "output_type": "execute_result"
    }
   ],
   "source": [
    ".8*w"
   ]
  },
  {
   "cell_type": "code",
   "execution_count": null,
   "metadata": {},
   "outputs": [],
   "source": []
  }
 ],
 "metadata": {
  "kernelspec": {
   "display_name": "Python 3",
   "language": "python",
   "name": "python3"
  },
  "language_info": {
   "codemirror_mode": {
    "name": "ipython",
    "version": 3
   },
   "file_extension": ".py",
   "mimetype": "text/x-python",
   "name": "python",
   "nbconvert_exporter": "python",
   "pygments_lexer": "ipython3",
   "version": "3.7.2"
  }
 },
 "nbformat": 4,
 "nbformat_minor": 2
}
