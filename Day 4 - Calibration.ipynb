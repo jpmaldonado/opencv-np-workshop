{
 "cells": [
  {
   "cell_type": "code",
   "execution_count": 54,
   "metadata": {},
   "outputs": [],
   "source": [
    "import cv2\n",
    "import matplotlib.pyplot as plt\n",
    "%matplotlib inline\n",
    "import numpy as np"
   ]
  },
  {
   "cell_type": "code",
   "execution_count": 55,
   "metadata": {},
   "outputs": [],
   "source": [
    "import glob"
   ]
  },
  {
   "cell_type": "code",
   "execution_count": 56,
   "metadata": {},
   "outputs": [],
   "source": [
    "chessboard_size = (9,6)"
   ]
  },
  {
   "cell_type": "markdown",
   "metadata": {},
   "source": [
    "### 1. Initialize arrays to save both grid points and image points"
   ]
  },
  {
   "cell_type": "code",
   "execution_count": 57,
   "metadata": {},
   "outputs": [],
   "source": [
    "obj_points = [] # 3D coordinates of our grid\n",
    "img_points = [] # 3D points of the image"
   ]
  },
  {
   "cell_type": "code",
   "execution_count": 58,
   "metadata": {},
   "outputs": [],
   "source": [
    "# Create array for chessboard coordinates\n",
    "objp = np.zeros((np.prod(chessboard_size),3), dtype = np.float32) # Array of (9*6,3) with float zeros"
   ]
  },
  {
   "cell_type": "code",
   "execution_count": 59,
   "metadata": {},
   "outputs": [],
   "source": [
    "# Magic happens... we need an index later on\n",
    "objp[:,:2] = np.mgrid[0:chessboard_size[0],0:chessboard_size[1]].T.reshape(-1,2)"
   ]
  },
  {
   "cell_type": "markdown",
   "metadata": {},
   "source": [
    "### 2. Find chessboard corners on all images and store them (after some processing)"
   ]
  },
  {
   "cell_type": "code",
   "execution_count": 60,
   "metadata": {},
   "outputs": [],
   "source": [
    "calib_imgs = glob.glob(\"../opencv-np-workshop/data/calib/*\")"
   ]
  },
  {
   "cell_type": "code",
   "execution_count": 61,
   "metadata": {},
   "outputs": [
    {
     "data": {
      "text/plain": [
       "['../opencv-np-workshop/data/calib\\\\P2280001.JPG',\n",
       " '../opencv-np-workshop/data/calib\\\\P2280002.JPG',\n",
       " '../opencv-np-workshop/data/calib\\\\P2280003.JPG',\n",
       " '../opencv-np-workshop/data/calib\\\\P2280004.JPG',\n",
       " '../opencv-np-workshop/data/calib\\\\P2280005.JPG',\n",
       " '../opencv-np-workshop/data/calib\\\\P2280006.JPG',\n",
       " '../opencv-np-workshop/data/calib\\\\P2280007.JPG',\n",
       " '../opencv-np-workshop/data/calib\\\\P2280008.JPG']"
      ]
     },
     "execution_count": 61,
     "metadata": {},
     "output_type": "execute_result"
    }
   ],
   "source": [
    "calib_imgs"
   ]
  },
  {
   "cell_type": "code",
   "execution_count": 62,
   "metadata": {},
   "outputs": [
    {
     "name": "stdout",
     "output_type": "stream",
     "text": [
      "Chessboard detected\n",
      "../opencv-np-workshop/data/calib\\P2280001.JPG\n",
      "Chessboard detected\n",
      "../opencv-np-workshop/data/calib\\P2280002.JPG\n",
      "Chessboard detected\n",
      "../opencv-np-workshop/data/calib\\P2280003.JPG\n",
      "Chessboard detected\n",
      "../opencv-np-workshop/data/calib\\P2280004.JPG\n",
      "Chessboard detected\n",
      "../opencv-np-workshop/data/calib\\P2280005.JPG\n",
      "Chessboard detected\n",
      "../opencv-np-workshop/data/calib\\P2280006.JPG\n",
      "Chessboard detected\n",
      "../opencv-np-workshop/data/calib\\P2280007.JPG\n",
      "Chessboard detected\n",
      "../opencv-np-workshop/data/calib\\P2280008.JPG\n"
     ]
    }
   ],
   "source": [
    "for img_path in calib_imgs:\n",
    "    img = cv2.imread(img_path, 0)\n",
    "    #img = cv2.pyrDown(img) # Downsample for speed\n",
    "    ret, corners = cv2.findChessboardCorners(img, chessboard_size, None)\n",
    "    \n",
    "    if ret:\n",
    "        # Takes some time, so better to log something\n",
    "        print(\"Chessboard detected\")\n",
    "        print(img_path)\n",
    "        \n",
    "        # Increase subpixel accuracy of detection --> Reccommended in docs\n",
    "        criteria = (cv2.TERM_CRITERIA_EPS+cv2.TERM_CRITERIA_MAX_ITER, 30, 0.001)\n",
    "        \n",
    "        # Refine corner location\n",
    "        corners = cv2.cornerSubPix(img, corners, (11,11), (-1,-1), criteria)\n",
    "        \n",
    "        # Store corners + index\n",
    "        obj_points.append(objp)\n",
    "        img_points.append(corners)        "
   ]
  },
  {
   "cell_type": "markdown",
   "metadata": {},
   "source": [
    "### 3. Calibrate camera"
   ]
  },
  {
   "cell_type": "code",
   "execution_count": 63,
   "metadata": {},
   "outputs": [],
   "source": [
    "ret, K, dist, rvecs, tvecs = cv2.calibrateCamera(\n",
    "                                        obj_points, \n",
    "                                        img_points, \n",
    "                                        img.shape[::-1],\n",
    "                                        None,\n",
    "                                        None\n",
    "                                    )"
   ]
  },
  {
   "cell_type": "code",
   "execution_count": 64,
   "metadata": {},
   "outputs": [
    {
     "data": {
      "text/plain": [
       "array([[3.57276978e+03, 0.00000000e+00, 2.11492730e+03],\n",
       "       [0.00000000e+00, 3.58000354e+03, 1.69882805e+03],\n",
       "       [0.00000000e+00, 0.00000000e+00, 1.00000000e+00]])"
      ]
     },
     "execution_count": 64,
     "metadata": {},
     "output_type": "execute_result"
    }
   ],
   "source": [
    "K"
   ]
  },
  {
   "cell_type": "code",
   "execution_count": 65,
   "metadata": {},
   "outputs": [
    {
     "data": {
      "text/plain": [
       "(3216, 4288)"
      ]
     },
     "execution_count": 65,
     "metadata": {},
     "output_type": "execute_result"
    }
   ],
   "source": [
    "img.shape"
   ]
  },
  {
   "cell_type": "code",
   "execution_count": 66,
   "metadata": {},
   "outputs": [],
   "source": [
    "# Refine the camera matrix\n",
    "h, w = img.shape"
   ]
  },
  {
   "cell_type": "code",
   "execution_count": 67,
   "metadata": {},
   "outputs": [],
   "source": [
    "K_opt, roi = cv2.getOptimalNewCameraMatrix(K, dist, (w,h), 1, (w,h)) \n",
    "# 1 = alpha parameter (no point deletion)"
   ]
  },
  {
   "cell_type": "code",
   "execution_count": 68,
   "metadata": {},
   "outputs": [
    {
     "data": {
      "text/plain": [
       "array([[3.38229004e+03, 0.00000000e+00, 2.11738348e+03],\n",
       "       [0.00000000e+00, 3.43007544e+03, 1.73542327e+03],\n",
       "       [0.00000000e+00, 0.00000000e+00, 1.00000000e+00]])"
      ]
     },
     "execution_count": 68,
     "metadata": {},
     "output_type": "execute_result"
    }
   ],
   "source": [
    "K_opt"
   ]
  },
  {
   "cell_type": "markdown",
   "metadata": {},
   "source": [
    "### 4. Measure calibration error"
   ]
  },
  {
   "cell_type": "code",
   "execution_count": 70,
   "metadata": {},
   "outputs": [
    {
     "name": "stdout",
     "output_type": "stream",
     "text": [
      "Error:  0.1264159553783108\n"
     ]
    }
   ],
   "source": [
    "mean_error = 0 \n",
    "for i in range(len(img_points)):\n",
    "    # virtual picture of the chessboard\n",
    "    img_points2, _ = cv2.projectPoints(obj_points[i], rvecs[i], tvecs[i], K, dist) \n",
    "    error = cv2.norm(img_points[i], img_points2, cv2.NORM_L2)/len(img_points2)\n",
    "    \n",
    "    mean_error += error # averar error in instance\n",
    "print(\"Error: \", mean_error/len(obj_points))\n",
    "    "
   ]
  },
  {
   "cell_type": "code",
   "execution_count": 71,
   "metadata": {},
   "outputs": [],
   "source": [
    "np.save(\"../opencv-np-workshop/data/camera_params/K\", K)"
   ]
  }
 ],
 "metadata": {
  "kernelspec": {
   "display_name": "Python 3",
   "language": "python",
   "name": "python3"
  },
  "language_info": {
   "codemirror_mode": {
    "name": "ipython",
    "version": 3
   },
   "file_extension": ".py",
   "mimetype": "text/x-python",
   "name": "python",
   "nbconvert_exporter": "python",
   "pygments_lexer": "ipython3",
   "version": "3.7.2"
  }
 },
 "nbformat": 4,
 "nbformat_minor": 2
}
