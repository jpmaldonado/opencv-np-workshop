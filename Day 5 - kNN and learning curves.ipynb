{
 "cells": [
  {
   "cell_type": "code",
   "execution_count": 1,
   "metadata": {},
   "outputs": [],
   "source": [
    "import cv2 \n",
    "import numpy as np\n",
    "import glob\n",
    "import matplotlib.pyplot as plt\n",
    "%matplotlib inline"
   ]
  },
  {
   "cell_type": "code",
   "execution_count": 2,
   "metadata": {},
   "outputs": [],
   "source": [
    "def calc_hog(img):\n",
    "    img = cv2.resize(img,(50,50))\n",
    "    win_size = (20,20)\n",
    "    block_size = (10,10)\n",
    "    block_stride = (5,5)\n",
    "    cell_size = (5,5)\n",
    "    nbins = 9\n",
    "    descriptor = cv2.HOGDescriptor(win_size, block_size, block_stride, cell_size, nbins)\n",
    "    hog_vec_img = descriptor.compute(img)\n",
    "    return hog_vec_img.T"
   ]
  },
  {
   "cell_type": "code",
   "execution_count": 3,
   "metadata": {},
   "outputs": [],
   "source": [
    "N_FEATURES = 15876"
   ]
  },
  {
   "cell_type": "code",
   "execution_count": 4,
   "metadata": {},
   "outputs": [],
   "source": [
    "### CREATE X_train, y_train\n",
    "\n",
    "train_hd_files = glob.glob(\"../opencv-np-workshop/data/hotdog/train/hot_dog/*\")\n",
    "train_nhd_files = glob.glob(\"../opencv-np-workshop/data/hotdog/train/not_hot_dog/*\")\n",
    "\n",
    "train_size = len(train_hd_files)+len(train_nhd_files)\n",
    "X_train = np.zeros((train_size, N_FEATURES))\n",
    "y_train = np.zeros((train_size, 1))\n",
    "\n",
    "# Initialize arrays of right size\n",
    "X_train = np.zeros((train_size, N_FEATURES))\n",
    "y_train = np.zeros((train_size, 1))\n",
    "\n",
    "# Populate arrays\n",
    "for i, f in enumerate(train_hd_files):\n",
    "    img = cv2.imread(f)\n",
    "    feat = calc_hog(img)\n",
    "    X_train[i,:] = feat\n",
    "    y_train[i] = 1\n",
    "    \n",
    "for i, f in enumerate(train_nhd_files):\n",
    "    img = cv2.imread(f)\n",
    "    feat = calc_hog(img)\n",
    "    X_train[i+len(train_hd_files),:] = feat\n",
    "    \n",
    "# Convert to np.float32/np.int32 before going to OpenCV\n",
    "X_train = np.ndarray.astype(X_train, dtype=np.float32)\n",
    "y_train = np.ndarray.astype(y_train, dtype=np.int32)"
   ]
  },
  {
   "cell_type": "code",
   "execution_count": 5,
   "metadata": {},
   "outputs": [],
   "source": [
    "### CREATE X_train, y_train\n",
    "\n",
    "test_hd_files = glob.glob(\"../opencv-np-workshop/data/hotdog/test/hot_dog/*\")\n",
    "test_nhd_files = glob.glob(\"../opencv-np-workshop/data/hotdog/test/not_hot_dog/*\")\n",
    "\n",
    "test_size = len(test_hd_files)+len(test_nhd_files)\n",
    "X_test = np.zeros((test_size, N_FEATURES))\n",
    "y_test = np.zeros((test_size, 1))\n",
    "\n",
    "# Initialize arrays of right size\n",
    "X_test = np.zeros((test_size, N_FEATURES))\n",
    "y_test = np.zeros((test_size, 1))\n",
    "\n",
    "# Populate arrays\n",
    "for i, f in enumerate(test_hd_files):\n",
    "    img = cv2.imread(f)\n",
    "    feat = calc_hog(img)\n",
    "    X_test[i,:] = feat\n",
    "    y_test[i] = 1\n",
    "    \n",
    "for i, f in enumerate(test_nhd_files):\n",
    "    img = cv2.imread(f)\n",
    "    feat = calc_hog(img)\n",
    "    X_test[i+len(test_hd_files),:] = feat\n",
    "    \n",
    "# Convert to np.float32/np.int32 before going to OpenCV\n",
    "X_test = np.ndarray.astype(X_test, dtype=np.float32)\n",
    "y_test = np.ndarray.astype(y_test, dtype=np.int32)"
   ]
  },
  {
   "cell_type": "code",
   "execution_count": 6,
   "metadata": {},
   "outputs": [
    {
     "data": {
      "text/plain": [
       "(498, 15876)"
      ]
     },
     "execution_count": 6,
     "metadata": {},
     "output_type": "execute_result"
    }
   ],
   "source": [
    "X_train.shape"
   ]
  },
  {
   "cell_type": "code",
   "execution_count": 7,
   "metadata": {},
   "outputs": [
    {
     "data": {
      "text/plain": [
       "(500, 15876)"
      ]
     },
     "execution_count": 7,
     "metadata": {},
     "output_type": "execute_result"
    }
   ],
   "source": [
    "X_test.shape"
   ]
  },
  {
   "cell_type": "code",
   "execution_count": 8,
   "metadata": {},
   "outputs": [
    {
     "data": {
      "text/plain": [
       "(498, 1)"
      ]
     },
     "execution_count": 8,
     "metadata": {},
     "output_type": "execute_result"
    }
   ],
   "source": [
    "y_train.shape"
   ]
  },
  {
   "cell_type": "code",
   "execution_count": 9,
   "metadata": {},
   "outputs": [
    {
     "data": {
      "text/plain": [
       "(500, 1)"
      ]
     },
     "execution_count": 9,
     "metadata": {},
     "output_type": "execute_result"
    }
   ],
   "source": [
    "y_test.shape"
   ]
  },
  {
   "cell_type": "markdown",
   "metadata": {},
   "source": [
    "# Hyperparameter selection\n",
    "\n",
    "- Use the error plots to choose a good hyperparameter"
   ]
  },
  {
   "cell_type": "markdown",
   "metadata": {},
   "source": [
    "## k-NN: k-Nearest Neighbours\n",
    "\n",
    "- Hyperparameter $k$.\n",
    "- For every training example, it looks at the distance between all the points.\n",
    "- The label or class of each point is obtained as the vote of the $k$ closest points.\n",
    "- **Lazy learner**: No coefficients/weights are estimated on training. It only stores a copy of the features and labels of the train set and of $k$. This information is used to estimate the class of those points outside of the train set. "
   ]
  },
  {
   "cell_type": "markdown",
   "metadata": {},
   "source": [
    "#### Train k-NN"
   ]
  },
  {
   "cell_type": "code",
   "execution_count": 10,
   "metadata": {},
   "outputs": [],
   "source": [
    "k = 3\n",
    "knn = cv2.ml.KNearest_create()"
   ]
  },
  {
   "cell_type": "code",
   "execution_count": 11,
   "metadata": {},
   "outputs": [
    {
     "data": {
      "text/plain": [
       "True"
      ]
     },
     "execution_count": 11,
     "metadata": {},
     "output_type": "execute_result"
    }
   ],
   "source": [
    "knn.train(X_train, cv2.ml.ROW_SAMPLE, y_train)"
   ]
  },
  {
   "cell_type": "markdown",
   "metadata": {},
   "source": [
    "#### Measure error on the test set"
   ]
  },
  {
   "cell_type": "code",
   "execution_count": 12,
   "metadata": {},
   "outputs": [],
   "source": [
    "y_pred = knn.findNearest(X_test, k)[1]"
   ]
  },
  {
   "cell_type": "code",
   "execution_count": 13,
   "metadata": {},
   "outputs": [],
   "source": [
    "avg_error = (y_test != y_pred).mean() # average error on the test set\n",
    "accuracy = (y_test == y_pred).mean() # average accuracy on the test set"
   ]
  },
  {
   "cell_type": "code",
   "execution_count": 14,
   "metadata": {},
   "outputs": [
    {
     "data": {
      "text/plain": [
       "0.284"
      ]
     },
     "execution_count": 14,
     "metadata": {},
     "output_type": "execute_result"
    }
   ],
   "source": [
    "avg_error"
   ]
  },
  {
   "cell_type": "code",
   "execution_count": 15,
   "metadata": {},
   "outputs": [
    {
     "data": {
      "text/plain": [
       "0.716"
      ]
     },
     "execution_count": 15,
     "metadata": {},
     "output_type": "execute_result"
    }
   ],
   "source": [
    "accuracy"
   ]
  },
  {
   "cell_type": "code",
   "execution_count": 16,
   "metadata": {},
   "outputs": [
    {
     "data": {
      "text/plain": [
       "(500, 1)"
      ]
     },
     "execution_count": 16,
     "metadata": {},
     "output_type": "execute_result"
    }
   ],
   "source": [
    "y_pred.shape"
   ]
  },
  {
   "cell_type": "code",
   "execution_count": 17,
   "metadata": {},
   "outputs": [],
   "source": [
    "accuracies = []\n",
    "ks = []\n",
    "for k in range(3,10):\n",
    "    y_pred = knn.findNearest(X_test, k)[1]\n",
    "    accuracy = (y_test == y_pred).mean()\n",
    "    ks.append(k)\n",
    "    accuracies.append(accuracy)\n",
    "\n"
   ]
  },
  {
   "cell_type": "code",
   "execution_count": 18,
   "metadata": {},
   "outputs": [
    {
     "data": {
      "text/plain": [
       "[<matplotlib.lines.Line2D at 0x1458be880b8>]"
      ]
     },
     "execution_count": 18,
     "metadata": {},
     "output_type": "execute_result"
    },
    {
     "data": {
      "image/png": "[encoded data removed]",
      "text/plain": [
       "<Figure size 432x288 with 1 Axes>"
      ]
     },
     "metadata": {
      "needs_background": "light"
     },
     "output_type": "display_data"
    }
   ],
   "source": [
    "plt.plot(ks, accuracies)"
   ]
  },
  {
   "cell_type": "markdown",
   "metadata": {},
   "source": [
    "### Do we need more data or better model?\n",
    "\n",
    "- Choose a random sample of the data (for train and for test).\n",
    "- Plot on the $x-$axis the sample size.\n",
    "- On the $y-$axis we look at the error on the train set and on the same chart also the error on the test set."
   ]
  },
  {
   "cell_type": "markdown",
   "metadata": {},
   "source": [
    "##### What for?\n",
    "\n",
    "- **Low gap between train and test, high accuracy:** Ideal case, no need for tuning/add data.\n",
    "- **High gap, high accuracy:** Train data data is not representative of the world ==> add data.\n",
    "- **Low gap, low accuracy:** We have a bias problem, our data is ok. We need to change hyperparameters or algorithm.\n",
    "- **High gap, low accuracy:** Bad situation, both data and hyperparameters need to be fixed.\n"
   ]
  },
  {
   "cell_type": "code",
   "execution_count": 19,
   "metadata": {},
   "outputs": [],
   "source": [
    "sample_sizes = range(10,240,20)"
   ]
  },
  {
   "cell_type": "code",
   "execution_count": 20,
   "metadata": {},
   "outputs": [],
   "source": [
    "n_samples = []\n",
    "train_acc = []\n",
    "test_acc = []"
   ]
  },
  {
   "cell_type": "code",
   "execution_count": 21,
   "metadata": {},
   "outputs": [],
   "source": [
    "def eval_sample_clf(X_train, X_test, y_train, y_test, s):\n",
    "    knn = cv2.ml.KNearest_create()\n",
    "    \n",
    "    idxs = np.random.choice(range(248), s) # Chooses s random indices\n",
    "    X_train_sample = np.copy(X_train[idxs,:])\n",
    "    y_train_sample = np.copy(y_train[idxs])\n",
    "    \n",
    "    idxs = np.random.choice(range(248), s) # Chooses s random indices\n",
    "    X_test_sample  = np.copy(X_test[idxs,:])\n",
    "    y_test_sample = np.copy(y_test[idxs])\n",
    "    \n",
    "    # Train knn\n",
    "    knn.train(X_train_sample, cv2.ml.ROW_SAMPLE, y_train_sample)\n",
    "\n",
    "    # Calculate train accuracy\n",
    "    y_train_pred = knn.findNearest(X_train_sample, 3)[1]\n",
    "    acc_train = (y_train_sample == y_train_pred).mean()\n",
    "    \n",
    "    #Calculate test accuracy\n",
    "    y_test_pred = knn.findNearest(X_test_sample, 3)[1]\n",
    "    acc_test = (y_test_sample == y_test_pred).mean()\n",
    "\n",
    "    return acc_train, acc_test\n",
    "    \n",
    "    "
   ]
  },
  {
   "cell_type": "code",
   "execution_count": 22,
   "metadata": {},
   "outputs": [],
   "source": [
    "for s in sample_sizes:\n",
    "    acc_train, acc_test = eval_sample_clf(X_train, X_test, y_train, y_test, s)\n",
    "    \n",
    "    # store\n",
    "    train_acc.append(acc_train)\n",
    "    test_acc.append(acc_test)\n",
    "    \n",
    "    # Add sample size\n",
    "    n_samples.append(s)"
   ]
  },
  {
   "cell_type": "code",
   "execution_count": 23,
   "metadata": {},
   "outputs": [
    {
     "data": {
      "text/plain": [
       "1.0"
      ]
     },
     "execution_count": 23,
     "metadata": {},
     "output_type": "execute_result"
    }
   ],
   "source": [
    "acc_train"
   ]
  },
  {
   "cell_type": "code",
   "execution_count": 24,
   "metadata": {},
   "outputs": [
    {
     "data": {
      "text/plain": [
       "1.0"
      ]
     },
     "execution_count": 24,
     "metadata": {},
     "output_type": "execute_result"
    }
   ],
   "source": [
    "acc_test"
   ]
  },
  {
   "cell_type": "code",
   "execution_count": 25,
   "metadata": {},
   "outputs": [
    {
     "data": {
      "image/png": "[encoded data removed]",
      "text/plain": [
       "<Figure size 432x288 with 1 Axes>"
      ]
     },
     "metadata": {
      "needs_background": "light"
     },
     "output_type": "display_data"
    }
   ],
   "source": [
    "plt.plot(n_samples, train_acc)\n",
    "plt.plot(n_samples, test_acc)\n",
    "plt.show()"
   ]
  },
  {
   "cell_type": "code",
   "execution_count": 26,
   "metadata": {},
   "outputs": [
    {
     "ename": "NameError",
     "evalue": "name 'y_test_pred' is not defined",
     "output_type": "error",
     "traceback": [
      "\u001b[1;31m---------------------------------------------------------------------------\u001b[0m",
      "\u001b[1;31mNameError\u001b[0m                                 Traceback (most recent call last)",
      "\u001b[1;32m<ipython-input-26-115c330cb970>\u001b[0m in \u001b[0;36m<module>\u001b[1;34m\u001b[0m\n\u001b[1;32m----> 1\u001b[1;33m \u001b[0my_test_pred\u001b[0m\u001b[1;33m.\u001b[0m\u001b[0mshape\u001b[0m\u001b[1;33m\u001b[0m\u001b[1;33m\u001b[0m\u001b[0m\n\u001b[0m",
      "\u001b[1;31mNameError\u001b[0m: name 'y_test_pred' is not defined"
     ]
    }
   ],
   "source": [
    "y_test_pred.shape"
   ]
  },
  {
   "cell_type": "code",
   "execution_count": null,
   "metadata": {},
   "outputs": [],
   "source": []
  }
 ],
 "metadata": {
  "kernelspec": {
   "display_name": "Python 3",
   "language": "python",
   "name": "python3"
  },
  "language_info": {
   "codemirror_mode": {
    "name": "ipython",
    "version": 3
   },
   "file_extension": ".py",
   "mimetype": "text/x-python",
   "name": "python",
   "nbconvert_exporter": "python",
   "pygments_lexer": "ipython3",
   "version": "3.7.2"
  }
 },
 "nbformat": 4,
 "nbformat_minor": 2
}
